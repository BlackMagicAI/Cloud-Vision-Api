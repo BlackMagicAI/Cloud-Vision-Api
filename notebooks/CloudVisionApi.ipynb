{
  "nbformat": 4,
  "nbformat_minor": 0,
  "metadata": {
    "colab": {
      "name": "CloudVisionApi.ipynb",
      "provenance": [],
      "collapsed_sections": [],
      "authorship_tag": "ABX9TyOVEMV2CfLSw7LCsrgjb3ks",
      "include_colab_link": true
    },
    "kernelspec": {
      "name": "python3",
      "display_name": "Python 3"
    },
    "language_info": {
      "name": "python"
    }
  },
  "cells": [
    {
      "cell_type": "markdown",
      "metadata": {
        "id": "view-in-github",
        "colab_type": "text"
      },
      "source": [
        "<a href=\"https://colab.research.google.com/github/BlackMagicAI/Cloud-Vision-Api/blob/main/notebooks/CloudVisionApi.ipynb\" target=\"_parent\"><img src=\"https://colab.research.google.com/assets/colab-badge.svg\" alt=\"Open In Colab\"/></a>"
      ]
    },
    {
      "cell_type": "markdown",
      "metadata": {
        "id": "A_xDJDXS2514"
      },
      "source": [
        "# Goolge Cloud Vision Api\n",
        "ref:\n",
        "[Docs](https://cloud.google.com/vision/docs/object-localizer)"
      ]
    },
    {
      "cell_type": "code",
      "metadata": {
        "id": "ZFVsmH72Q4wG"
      },
      "source": [
        "# Make image input and output directories\n",
        "!mkdir images\n",
        "!mkdir out\n",
        "# Load default test image\n",
        "!wget https://raw.githubusercontent.com/BlackMagicAI/Tiny-Yolo-3/master/example/images/dog.jpg -P images"
      ],
      "execution_count": null,
      "outputs": []
    },
    {
      "cell_type": "markdown",
      "metadata": {
        "id": "BxiJ_V3NwLs6"
      },
      "source": [
        "###Use python request library"
      ]
    },
    {
      "cell_type": "markdown",
      "metadata": {
        "id": "xr7A9D882Xmo"
      },
      "source": [
        "**Set Google Application Credentials environment**"
      ]
    },
    {
      "cell_type": "code",
      "metadata": {
        "id": "cTybLtokw-QJ"
      },
      "source": [
        "import os\n",
        "import subprocess\n",
        "# set system environment variable\n",
        "os.environ['GOOGLE_APPLICATION_CREDENTIALS'] = '/content/aiml9-xor-327423-ed14aa16f610.json'\n",
        "# get bearer token from command line gcloud \n",
        "bearer_token=subprocess.run([\"gcloud\", \"auth\", \"application-default\", \"print-access-token\"],stdout=subprocess.PIPE, text=True)"
      ],
      "execution_count": 1,
      "outputs": []
    },
    {
      "cell_type": "code",
      "metadata": {
        "id": "6bjxmM7mFjZO"
      },
      "source": [
        "# Print bearer token value to file output\n",
        "with open('token.txt', 'w') as writefile:\n",
        "    writefile.write(bearer_token.stdout.strip())"
      ],
      "execution_count": 5,
      "outputs": []
    },
    {
      "cell_type": "code",
      "metadata": {
        "id": "nJd8gcofCygG"
      },
      "source": [
        "import base64\n",
        "import json\n",
        "from io import BytesIO\n",
        "from PIL import Image, ImageDraw, ImageFont\n",
        "# Using Python Request library\n",
        "import requests\n",
        "\n",
        "# Pass the image data to an encoding function.\n",
        "def encode_image(image):\n",
        "  infile = BytesIO()\n",
        "  image.save(infile, format=\"JPEG\")\n",
        "  return base64.b64encode(infile.getvalue()).decode('utf-8')\n",
        "\n",
        "# Draw bounding box, class labels and scores onto original image\n",
        "def drawBoundingBox(image, boxes, all_classes, scores, color):\n",
        "  # fnt =ImageFont.truetype('./fonts/Ubuntu-Bold.ttf', 18)\n",
        "  fnt = ImageFont.load_default()\n",
        "  draw = ImageDraw.Draw(image)\n",
        "  for box, cl, score in zip(boxes, classes, scores):\n",
        "    p0, p1, p2, p3 = box\n",
        "    x0, y0 = p0\n",
        "    x1, y1 = p2\n",
        "\n",
        "    top = x0 * image.width # max(0, np.floor(x + 0.5).astype(int))\n",
        "    left = y0 * image.height # max(0, np.floor(y + 0.5).astype(int))\n",
        "    right = x1 * image.width # min(image.size[0], np.floor(x + w + 0.5).astype(int))\n",
        "    bottom = y1 * image.height # min(image.size[1], np.floor(y + h + 0.5).astype(int))\n",
        "\n",
        "    draw.rectangle([(top, left), (right, bottom)], outline=color)#blue rectangle\n",
        "    draw.text((top + 4, left), '{0} {1:.2f}'.format(cl, score), font=fnt, fill=(0, 0, 255))\n",
        "\n",
        "# Process json response\n",
        "def processJson(response):\n",
        "  boxes = []\n",
        "  classes = []\n",
        "  scores = []\n",
        "  for responseObject in response['responses']:    \n",
        "    for localizedObjectAnnotation in responseObject['localizedObjectAnnotations']:\n",
        "      classes.append(localizedObjectAnnotation['name'])\n",
        "      scores.append(localizedObjectAnnotation['score'])\n",
        "      box = []\n",
        "      for normalizedVertice in localizedObjectAnnotation['boundingPoly']['normalizedVertices']:\n",
        "        box.append((normalizedVertice['x'], normalizedVertice['y']))\n",
        "      boxes.append(box) \n",
        "  return boxes, classes, scores    "
      ],
      "execution_count": null,
      "outputs": []
    },
    {
      "cell_type": "markdown",
      "metadata": {
        "id": "NdJxGqzf2kju"
      },
      "source": [
        "**Form JSON body and send POST request**"
      ]
    },
    {
      "cell_type": "code",
      "metadata": {
        "id": "K_JfAq03gRu9"
      },
      "source": [
        "# Load image\n",
        "input_image_name = 'dog.jpg'\n",
        "imagedata = Image.open(\"images/\" + input_image_name)\n",
        "print(input_image_name)\n",
        "\n",
        "# Save json data as local file\n",
        "jsonBody = {\"requests\": [\n",
        "    {\n",
        "      \"image\": {\n",
        "        \"content\": encode_image(imagedata)\n",
        "      },\n",
        "      \"features\": [\n",
        "        {\n",
        "          \"maxResults\": 10,\n",
        "          \"type\": \"OBJECT_LOCALIZATION\"\n",
        "        }\n",
        "      ]\n",
        "    }\n",
        "  ]\n",
        "}\n",
        "\n",
        "# define variables\n",
        "BEARER_TOKEN = bearer_token.stdout.strip()\n",
        "url = 'https://vision.googleapis.com/v1/images:annotate'\n",
        "bearer = 'Bearer {}'.format(BEARER_TOKEN)\n",
        "\n",
        "# send POST request to url\n",
        "response = requests.post(url, \n",
        "                  headers={'Content-Type': 'application/json; charset=utf-8', \n",
        "                           'Authorization': bearer},\n",
        "                  json=jsonBody\n",
        "                  )\n",
        "# print(response.json()['responses'])"
      ],
      "execution_count": null,
      "outputs": []
    },
    {
      "cell_type": "markdown",
      "metadata": {
        "id": "g6gJvnCs0_e2"
      },
      "source": [
        "### Process results and display annotated image"
      ]
    },
    {
      "cell_type": "code",
      "metadata": {
        "id": "SEdCy8DYN38D"
      },
      "source": [
        "# Draw bounding boxes on original image\n",
        "boxes, classes, scores = processJson(response.json())\n",
        "drawBoundingBox(imagedata, boxes, classes, scores, (0,255,0))\n",
        "display(imagedata)"
      ],
      "execution_count": null,
      "outputs": []
    },
    {
      "cell_type": "markdown",
      "metadata": {
        "id": "KNO1r40Jk1nt"
      },
      "source": [
        "###Or Use the Curl command"
      ]
    },
    {
      "cell_type": "code",
      "metadata": {
        "id": "E9vVwetSAcBy"
      },
      "source": [
        "%%bash\n",
        "export GOOGLE_APPLICATION_CREDENTIALS=\"<INSERT-CREDENTIALS-FILE-PATH-HERE>\"\n",
        "\n",
        "# load image and base64 encode it\n",
        "jsonbody=$(base64 images/dog.jpg)\n",
        "\n",
        "# form json body\n",
        "INPUT_DATA_FILE='{\"requests\": [\n",
        "    {\n",
        "      \"image\": {\n",
        "        \"content\": \"jsonbody_placeholder\"\n",
        "      },\n",
        "      \"features\": [\n",
        "        {\n",
        "          \"maxResults\": 10,\n",
        "          \"type\": \"OBJECT_LOCALIZATION\"\n",
        "        }\n",
        "      ]\n",
        "    }\n",
        "  ]\n",
        "}'\n",
        "\n",
        "# substitute base64 encoded image string into json body\n",
        "INPUT_DATA_FILE=${INPUT_DATA_FILE/jsonbody_placeholder/$jsonbody}\n",
        "# write json body to a file\n",
        "echo $INPUT_DATA_FILE > request.json\n",
        "\n",
        "res=$(curl -X POST \\\n",
        "-H \"Authorization: Bearer \"$(gcloud auth application-default print-access-token) \\\n",
        "-H \"Content-Type: application/json; charset=utf-8\" \\\n",
        "-d @request.json \\\n",
        "\"https://vision.googleapis.com/v1/images:annotate\")\n",
        "echo \"$res\""
      ],
      "execution_count": null,
      "outputs": []
    },
    {
      "cell_type": "markdown",
      "metadata": {
        "id": "Mx9rFIdND7CI"
      },
      "source": [
        "###Or Use the Curl command from Python and process results"
      ]
    },
    {
      "cell_type": "code",
      "metadata": {
        "id": "L5DpTRRVJuBi"
      },
      "source": [
        "results=subprocess.check_output(['curl', '-X', 'POST', '-H', 'Authorization: Bearer {}'.format(BEARER_TOKEN),'-H', 'Content-Type: application/json; charset=utf-8','-d',json.dumps(jsonBody) , 'https://vision.googleapis.com/v1/images:annotate']).decode('UTF-8')\n",
        "# Draw bounding boxes on original image\n",
        "resultsObj = json.loads(results) # convert results string response to Python object\n",
        "boxes, classes, scores = processJson(resultsObj)\n",
        "drawBoundingBox(imagedata, boxes, classes, scores, (0,255,0))\n",
        "display(imagedata)"
      ],
      "execution_count": null,
      "outputs": []
    }
  ]
}